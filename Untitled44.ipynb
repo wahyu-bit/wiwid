{ luki
 "cells": [
  {
   "cell_type": "code",
   "execution_count": 2,
   "metadata": {},
   "outputs": [],
   "source": [
    "#PROGRAM PENDAPATAN KARYAWAN BESERTA DENGAN GAJINYA\n",
    "#Oleh wahyu widhi\n",
    "\n",
    "class karyawan:\n",
    "    jumlah_karyawan = 0\n",
    "    \n",
    "    def __init__(self, nama, jabatan, gaji):\n",
    "        self.nama = nama\n",
    "        self.jabatan = jabatan\n",
    "        self.gaji = gaji\n",
    "        karyawan.jumlah_karyawan += 1\n",
    "        \n",
    "    def tampilkan_jumlah(self):\n",
    "        print(\"Total Jumlah Karyawan :\", Karyawan.jumlah_karyawan)\n",
    "        \n",
    "    def tampilkan_biodata(self):\n",
    "        print(\"Nama : {}\".format(self.nama))\n",
    "        print(\"Jabatan : {}\".format(self.jabatan))\n",
    "        print(\"Gaji : {}\".format(self.gaji))\n",
    "        \n",
    "        Karyawan1 = Karyawan(\"Aldebaran\", \"Kepala Direktur\", 15000000)\n",
    "        Karyawan2 = Karyawan(\"Andin\", \"Manager\", 11000000)\n",
    "        Karyawan3 = Karyawan(\"Elsa\", \"Sekretaris\", 9000000)\n",
    "        Karyawan4 = Karyawan(\"Rendy\", \"Kepala Keuangan\", 8000000)\n",
    "        Karyawan5 = Karyawan(\"Roy\",\"Kepala Gudang\", 7000000)\n",
    "        Karyawan6 = Karyawan(\"Kiki\", \"Office Boy\", 4000000)\n",
    "\n",
    "        karyawan1.tampilkan_biodata()\n",
    "        karyawan2.tampilkan_biodata()\n",
    "        karyawan3.tampilkan_biodata()\n",
    "        karyawan4.tampilkan_biodata()\n",
    "        karyawan5.tampilkan_biodata()\n",
    "        karyawan6.tampilkan_biodata()\n",
    "\n",
    "        print(\"Total jumlah karyawan : \", Karyawan.jumlah_karyawan)\n"
   ]
  },
  {
   "cell_type": "code",
   "execution_count": 7,
   "metadata": {},
   "outputs": [
    {
     "ename": "IndentationError",
     "evalue": "unexpected indent (<ipython-input-7-219cd916b02d>, line 35)",
     "output_type": "error",
     "traceback": [
      "\u001b[1;36m  File \u001b[1;32m\"<ipython-input-7-219cd916b02d>\"\u001b[1;36m, line \u001b[1;32m35\u001b[0m\n\u001b[1;33m    print(\"Total jumlah karyawan : \", Karyawan.jumlah_karyawan)\u001b[0m\n\u001b[1;37m    ^\u001b[0m\n\u001b[1;31mIndentationError\u001b[0m\u001b[1;31m:\u001b[0m unexpected indent\n"
     ]
    }
   ],
   "source": [
    "#PROGRAM PENDAPATAN KARYAWAN BESERTA DENGAN GAJINYA\n",
    "#Oleh wahyu widhi\n",
    "\n",
    "class karyawan:\n",
    "    jumlah_karyawan = 0\n",
    "    \n",
    "    def __init__(self, nama, jabatan, gaji):\n",
    "        self.nama = nama\n",
    "        self.jabatan = jabatan\n",
    "        self.gaji = gaji\n",
    "        karyawan.jumlah_karyawan += 1\n",
    "        \n",
    "    def tampilkan_jumlah(self):\n",
    "        print(\"Total Jumlah Karyawan :\", Karyawan.jumlah_karyawan)\n",
    "        \n",
    "    def tampilkan_biodata(self):\n",
    "        print(\"Nama : {}\".format(self.nama))\n",
    "        print(\"Jabatan : {}\".format(self.jabatan))\n",
    "        print(\"Gaji : {}\".format(self.gaji))\n",
    "        \n",
    "Karyawan1 = Karyawan(\"Aldebaran\", \"Kepala Direktur\", 15000000)\n",
    "Karyawan2 = Karyawan(\"Andin\", \"Manager\", 11000000)\n",
    "Karyawan3 = Karyawan(\"Elsa\", \"Sekretaris\", 9000000)\n",
    "Karyawan4 = Karyawan(\"Rendy\", \"Kepala Keuangan\", 8000000)\n",
    "Karyawan5 = Karyawan(\"Roy\",\"Kepala Gudang\", 7000000)\n",
    "Karyawan6 = Karyawan(\"Kiki\", \"Office Boy\", 4000000)\n",
    "\n",
    "karyawan1.tampilkan_biodata()\n",
    "karyawan2.tampilkan_biodata()\n",
    "karyawan3.tampilkan_biodata()\n",
    "karyawan4.tampilkan_biodata()\n",
    "karyawan5.tampilkan_biodata()\n",
    "karyawan6.tampilkan_biodata()\n",
    "\n",
    "        print(\"Total jumlah karyawan : \", Karyawan.jumlah_karyawan)\n"
   ]
  },
  {
   "cell_type": "code",
   "execution_count": null,
   "metadata": {},
   "outputs": [],
   "source": []
  },
  {
   "cell_type": "code",
   "execution_count": null,
   "metadata": {},
   "outputs": [],
   "source": []
  },
  {
   "cell_type": "code",
   "execution_count": null,
   "metadata": {},
   "outputs": [],
   "source": []
  },
  {
   "cell_type": "code",
   "execution_count": 8,
   "metadata": {},
   "outputs": [],
   "source": [
    "#PROGRAM PENDAPATAN KARYAWAN BESERTA DENGAN GAJINYA\n",
    "#Oleh wahyu widhi\n",
    "\n",
    "class karyawan:\n",
    "    jumlah_karyawan = 0\n",
    "    \n",
    "    def __init__(self, nama, jabatan, gaji):\n",
    "        self.nama = nama\n",
    "        self.jabatan = jabatan\n",
    "        self.gaji = gaji\n",
    "        karyawan.jumlah_karyawan += 1\n",
    "        \n",
    "    def tampilkan_jumlah(self):\n",
    "        print(\"Total Jumlah Karyawan :\", Karyawan.jumlah_karyawan)\n",
    "        \n",
    "    def tampilkan_biodata(self):\n",
    "        print(\"Nama : {}\".format(self.nama))\n",
    "        print(\"Jabatan : {}\".format(self.jabatan))\n",
    "        print(\"Gaji : {}\".format(self.gaji))\n",
    "        \n",
    "        Karyawan1 = Karyawan(\"Aldebaran\", \"Kepala Direktur\", 15000000)\n",
    "        Karyawan2 = Karyawan(\"Andin\", \"Manager\", 11000000)\n",
    "        Karyawan3 = Karyawan(\"Elsa\", \"Sekretaris\", 9000000)\n",
    "        Karyawan4 = Karyawan(\"Rendy\", \"Kepala Keuangan\", 8000000)\n",
    "        Karyawan5 = Karyawan(\"Roy\",\"Kepala Gudang\", 7000000)\n",
    "        Karyawan6 = Karyawan(\"Kiki\", \"Office Boy\", 4000000)\n",
    "\n",
    "        karyawan1.tampilkan_biodata()\n",
    "        karyawan2.tampilkan_biodata()\n",
    "        karyawan3.tampilkan_biodata()\n",
    "        karyawan4.tampilkan_biodata()\n",
    "        karyawan5.tampilkan_biodata()\n",
    "        karyawan6.tampilkan_biodata()\n",
    "\n",
    "        print(\"Total jumlah karyawan : \", Karyawan.jumlah_karyawan)\n"
   ]
  },
  {
   "cell_type": "code",
   "execution_count": null,
   "metadata": {},
   "outputs": [],
   "source": []
  },
  {
   "cell_type": "code",
   "execution_count": null,
   "metadata": {},
   "outputs": [],
   "source": []
  }
 ],
 "metadata": {
  "kernelspec": {
   "display_name": "Python 3",
   "language": "python",
   "name": "python3"
  },
  "language_info": {
   "codemirror_mode": {
    "name": "ipython",
    "version": 3
   },
   "file_extension": ".py",
   "mimetype": "text/x-python",
   "name": "python",
   "nbconvert_exporter": "python",
   "pygments_lexer": "ipython3",
   "version": "3.8.3"
  }
 },
 "nbformat": 4,
 "nbformat_minor": 4
}
